# **Bem Vindo a Imersão Dados Python com a Alura! 💻 - AGOSTO/2025**

Nesta imersão, você aprenderá como a manipular e trabalhar com bases de dados usando a linguagem ```Python```.
Aproveite ao máximo esta imersão pois ela será de grande apoio para você e seu futuro.
### **Aula 1 - Explore Dados com Pandas 🐼**

Nesta aula vamos começar com o princípio da **Biblioteca Pandas**

> Não se esqueça de **Conectar** ao ambiente de programação 😀
import pandas as pd
Importando, lendo e entendendo a base de dados para a aula

>> ```base.head``` traz as primeiras linhas do arquivo

>> ```base.info``` traz as informações de cada coluna do arquivo

>> ```base.describe``` traz informações em formatos estatísticos

>> ```base.shape``` traz informações sobre dimensões do arquivo (linhas X colunas)

>> ```base.columns``` traz as informações sobre nome das colunas

>> ```base.rename```usado para renomear colunas

>> ```base[colunas].value_counts```traz a contagem de cada informação. Por exmeplo: quantos registros daquele existem na base
df = pd.read_csv("https://raw.githubusercontent.com/guilhermeonrails/data-jobs/refs/heads/main/salaries.csv")
df.head(10)
df.info()
df.describe()
df.shape
linhas, colunas = df.shape[0], df.shape[1]
print("Linhas:", linhas)
print("Colunas:", colunas)
df.columns
# USANDO IA para fazer a renomeação das colunas

# Mapeamento de colunas para português brasileiro
renomear_colunas = {
    'work_year': 'ano',
    'experience_level': 'senioridade',
    'employment_type': 'contrato',
    'job_title': 'cargo',
    'salary': 'salario',
    'salary_currency': 'moeda',
    'salary_in_usd': 'usd',
    'employee_residence': 'residencia',
    'remote_ratio': 'remoto',
    'company_location': 'empresa',
    'company_size': 'tamanho_empresa'
}

# Renomear as colunas do DataFrame
df.rename(columns=renomear_colunas, inplace=True)

# Exibir as colunas renomeadas para verificar
df.columns
df['senioridade'].value_counts()

# SE = Senior
# MI = Middle (Pleno)
# EN = Enteering (Junior)
# EX = Executive
df['contrato'].value_counts()

# FT = Full time
# CT = Contract
# PT = Part Time
# FL = Freelance
df['remoto'].value_counts()

# Nº 0 = trabalho presencial
# Nº 100 = trabalho remoto
# Nº 50 = trabalho híbrido
df['tamanho_empresa'].value_counts()

# M = Empresa média
# L = Empresa grande
# S = Empresa pequena
# Mapeamento dos valores da coluna 'senioridade' para português brasileiro
senioridade = {
    'SE': 'Senior',
    'MI': 'Pleno',
    'EN': 'Junior',
    'EX': 'Executivo'
}

# Traduzir os valores na coluna 'senioridade'
df['senioridade'] = df['senioridade'].replace(senioridade)

# Exibir a contagem dos valores traduzidos para verificar
df['senioridade'].value_counts()
# Mapeamento dos valores da coluna 'contrato' para português brasileiro
contrato = {
    'FT': 'Tempo Integral',
    'PT': 'Tempo Parcial',
    'FL': 'Freelance',
    'CT': 'Contrato',
}

# Traduzir os valores na coluna 'contrato'
df['contrato'] = df['contrato'].replace(contrato)

# Exibir a contagem dos valores traduzidos para verificar
df['contrato'].value_counts()
# Mapeamento dos valores da coluna 'tamanho_empresa' para português brasileiro
tamanho_empresa = {
    'M': 'Média',
    'S': 'Pequena',
    'L': 'Grande'
}

# Traduzir os valores na coluna 'remoto'
df['tamanho_empresa'] = df['tamanho_empresa'].replace(tamanho_empresa)

# Exibir a contagem dos valores traduzidos para verificar
df['tamanho_empresa'].value_counts()
# Mapeamento dos valores da coluna 'remoto' para português brasileiro
remoto = {
    0: 'Presencial',
    50: 'Híbrido',
    100: 'Remoto'
}

# Traduzir os valores na coluna 'remoto'
df['remoto'] = df['remoto'].replace(remoto)

# Exibir a contagem dos valores traduzidos para verificar
df['remoto'].value_counts()
df.head(10)
df.describe(include='object')
Observando acima, podemos ver que a nossa análise da tabela mudou. Conseguimos ver agora a contagem total de linhas em cada coluna, quantos tipos diferentes em cada uma, qual o tipo que mais aparece e qual a frequência desse tipo que mais aparece.
### **Finalizamos nossa aula 1 😎**

```Palavra chave: PANDAS ```

Na aula de hoje conhecemos um pouco da biblioteca pandas 🐼
Aprendemos como obter uma base de dados e quais as principais operações podemos fazer nela para entender o seu conteúdo.
Aprendemos como fazer tratativa na base, alterar nome das colunas, alterar nome dos registros, como visualizar os dados da melhor forma, e como usar a IA 🤖 para nos ajudar nessa análise e na criação de código em python. Tudo isso nos permitiu ter um melhor conhecimento e entendimento do conteúdo que a base de dados possui.


## **Aula 2 - Aprenda a Limpar e Preparar os Dados 🤓**

Geralmente, a base de dados nunca vem pronta, é preciso fazer algum tipo de trataiva, preparação dos dados para usar com mais precisão e garantir uma melhore análise.
df.isnull()
df.head()
df.isnull().sum()
A fórmula acima faz uma varredura nos dados, verifica quais campos estão nulos e mostra a contagem final de quantos campos nulos cada coluna possui.

```base.isnull``` retorna a base com campos em True ou False de nulos

```base.unique``` mostra quais são os valores que possuem naquela coluna
df['ano'].unique()
df[df.isnull().any(axis=1)]
Ou seja, a fórmula acima mostra quais são as linhas que tem registros ``ìsnull`` = True na coluna ano. E agora que sabemos onde esses valores estão inseridos, podemos fazer a tratativa para não haver esses erros futuros na base.
import numpy as np

df_salarios = pd.DataFrame({
    'nome': ['Ana', 'Bruno', 'Carlos', 'Daniele', 'Val'],
    'salario': [4000, np.nan, 5000, np.nan, 100000],
})

df_salarios['salario_media'] = df_salarios['salario'].fillna(df_salarios['salario'].mean().round(2))

df_salarios['salario_mediana'] = df_salarios['salario'].fillna(df_salarios['salario'].median())

df_salarios
df_temperaturas = pd.DataFrame({
    'Dia': ['Segunda', 'Terça', 'Quarta', 'Quinta', 'Sexta'],
    'Temperatura': [30, np.nan, np.nan, 28, 27]
})

df_temperaturas['preenchido_ffill'] = df_temperaturas['Temperatura'].ffill()
df_temperaturas
df_temperaturas = pd.DataFrame({
    'Dia': ['Segunda', 'Terça', 'Quarta', 'Quinta', 'Sexta'],
    'Temperatura': [30, np.nan, np.nan, 28, 27]
})

df_temperaturas['preenchido_bfill'] = df_temperaturas['Temperatura'].bfill()
df_temperaturas
df_cidades = pd.DataFrame({
    'nome': ['Ana', 'Bruno', 'Carlos', 'Daniele', 'Val'],
    'cidade': ['São Paulo', np.nan, 'Curitiba', np.nan, 'Belém']
})

df_cidades['cidade_corrigida'] = df_cidades['cidade'].fillna('Não informado')
df_cidades
Os códigos acima nos mostram como podemos fazer tratativas de valores nulos nas bases de dados.
Agora que sabemos como tratá-los, podemos voltar a nossa base original de salários e corrigir aquelas linhas em nulo.

Para isso, vamos usar
df_limpo = df.dropna()
df_limpo.isnull().sum()
df_limpo.head()
df_limpo.info()
df_limpo = df_limpo.assign(ano = df_limpo['ano'].astype('int64'))
Ou seja, fizemos a conversão da coluna ano de ```float``` para ```int``` e agora sim, temos a nossa base limpa e podemos começar a trabalhar mais nela.
### **Finalizamos nossa Aula 2 😎**

```Palavra chave: PRINT```

Na aula de hoje aprendemos como fazer a trataiva dos dados, como fazer diferentes tratamentos com valores nulo e com isso temos uma base mais limpa, mais fácil de entender e de usar. Agora já podemos começar a desenvolver novas coisas.
## **Aula 3 - Crie Gráficos e conte Histórias com Dados** 📊

Agora que aprendemos a manipular a base e estamos com tudo pronto, podemos começar a criar alguns gráficos com nossa base de dados!
Um dado limpo ajuda a agregar valor na tomada de decisão.
df_limpo.head()
Vamos a começar visualizar os dados da nossa base de dados.
Começaremos criando alguns gráficos que mostram a frequência de alguns acontecimentos para obter uma visualização mais fácil.
df_limpo['senioridade'].value_counts().plot(kind='bar', title='Distribuição de Senioridade')
E se começarmos a usar novas bibliotecas para customizar ainda mais esses gráficos? 📚
import seaborn as sns
sns.barplot(data=df_limpo, x='senioridade', y='usd')
import matplotlib.pyplot as plt
plt.figure(figsize=(8, 5))
sns.barplot(data=df_limpo, x='senioridade', y='usd')
plt.title('Média salarial por Senioridade')
plt.xlabel('Senioridade')
plt.ylabel('Salário médio anual {USD}')
plt.show()
df_limpo.groupby('senioridade')['usd'].mean().sort_values(ascending=False)
ordem = df_limpo.groupby('senioridade')['usd'].mean().sort_values(ascending=True).index
ordem
plt.figure(figsize=(8, 5))
sns.barplot(data=df_limpo, x='senioridade', y='usd', order=ordem)
plt.title('Média salarial por Senioridade')
plt.xlabel('Senioridade')
plt.ylabel('Salário médio anual {USD}')
plt.show()
plt.figure(figsize=(10, 6))
sns.histplot(df_limpo['usd'], bins=50, kde=True)
plt.title('Distribuição dos salários anuais')
plt.xlabel('Salário em USD')
plt.ylabel('Frequência')
plt.show()
plt.figure(figsize=(8, 5))
sns.boxplot(x=df_limpo['usd'])
plt.title('Boxplot Salário')
plt.xlabel('Salário em USD')
plt.show()
ordem_senioridade = ['Junior', 'Pleno', 'Senior', 'Executivo']

plt.figure(figsize=(8, 5))
sns.boxplot(x='senioridade', y='usd', data=df_limpo, order=ordem_senioridade)
plt.title('Boxplot Distribuição por por Senioridade')
plt.xlabel('Senioridade')
plt.ylabel('Salário em USD')
plt.show()
ordem_senioridade = ['Junior', 'Pleno', 'Senior', 'Executivo']

plt.figure(figsize=(8, 5))
sns.boxplot(x='senioridade', y='usd', data=df_limpo, order=ordem_senioridade, palette='Set2', hue='senioridade')
plt.title('Boxplot Distribuição por por Senioridade')
plt.xlabel('Senioridade')
plt.ylabel('Salário em USD')
plt.show()
Até aqui aprendemos como criar diferentes tipos de gráficos, como atribuir títulos, cores, subtítulos de legendas.
Mas podemos ir ainda além.
Vamos começar a criar **gráficos interativos** para dashboards 📶
import plotly.express as px
# USANDO IA PARA CRIAR UM NOVO GRÁFICO
# Calcular a média salarial por senioridade
media_senioridade = df_limpo.groupby('senioridade')['usd'].mean().reset_index()

# Definir a ordem das barras
ordem_senioridade = ['Junior', 'Pleno', 'Senior', 'Executivo']
media_senioridade['senioridade'] = pd.Categorical(media_senioridade['senioridade'], categories=ordem_senioridade, ordered=True)
media_senioridade = media_senioridade.sort_values('senioridade')


# Criar o gráfico de barras interativo com Plotly Express
fig = px.bar(
    media_senioridade,
    x='senioridade',
    y='usd',
    title='Média Salarial por Senioridade (USD)',
    labels={'senioridade': 'Senioridade', 'usd': 'Média Salarial Anual (USD)'}
)

# Exibir o gráfico
fig.show()
# Fazendo um gráfico de pizza para visualizar a proporção de tipo de trabalho
remoto_contagem = df_limpo['remoto'].value_counts().reset_index()
remoto_contagem.columns = ['tipo_trabalho', 'quantidade']

fig = px.pie(remoto_contagem,
             names='tipo_trabalho',
             values='quantidade',
             title='Proporção dos tipos de trabalho'
)

fig.show()
# Fazendo o mesmo gráfico na versão rosca
remoto_contagem = df_limpo['remoto'].value_counts().reset_index()
remoto_contagem.columns = ['tipo_trabalho', 'quantidade']

fig = px.pie(remoto_contagem,
             names='tipo_trabalho',
             values='quantidade',
             title='Proporção dos tipos de trabalho',
             hole=0.5
)

fig.show()
remoto_contagem = df_limpo['remoto'].value_counts().reset_index()
remoto_contagem.columns = ['tipo_trabalho', 'quantidade']

fig = px.pie(remoto_contagem,
             names='tipo_trabalho',
             values='quantidade',
             title='Proporção dos tipos de trabalho',
             hole=0.5
)

fig.update_traces(textinfo='percent+label')
fig.show()
### **Finalizamos nossa Aula 3 😎**

```Palavra Chave: MATPLOTLIB```

Na aula de hoje aprendemos como visualizar os nossos dados em diferentes formas de gráficos e como transformar eles da melhor forma possível. Ou seja, aprendemos a contar histórias com os nossos dados. Isso é muito importante. De nada vale ter os dados se não sabemos fazer boas análises e boas visualizações.

A forma como você dispõe os dados em um gráfico também interfere na interpretação, por isso é improtante que você pense em todos os pontos antes de fazer uma análise.
## **Aula 4 - Construa um Dashboard Interativo** 📈 📉

Chegamos a última aula da nossa imersão Alura Dados.
Hoje faremos um grande dashboard interativo em um site com todos os dados que trabalhamos na imersão.

Isso pode ser incrível para criação de um portfólio pessoal, divulgação do seu currículo e ensinar para outras pessoas.

### Construindo um Dashboard com Streamlit

> Vamos aprender a usar a biblioteca Streamlit para a criação de um dashboard simples, que permite visualizar dados filtrados e gerar gráficos de forma prática.
# Criando o ambiente virtual
python3 -m venv .venv
# Ativando o ambiente virtual em Windows
.venv\Scripts\Activate
# Ativando o ambiente virtual em MAC / LINUX
source .venv/bin/activate
# Criar um arquivo chamado requirements.txt e adicionar os pacotes necessários
pandas==2.2.3
streamlit==1.44.1
plotly==5.24.1
# Instalar as bibliotecas necessárias
pip install -r requirements.txt
### **Finalizamos nossa aula 04** 😎
```Palavra Chave:  ALURA```

